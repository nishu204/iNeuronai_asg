{
 "cells": [
  {
   "cell_type": "markdown",
   "id": "b10e89a4",
   "metadata": {},
   "source": [
    "1. Write a Python program to convert kilometers to miles?"
   ]
  },
  {
   "cell_type": "code",
   "execution_count": 1,
   "id": "ec1cfcd0",
   "metadata": {},
   "outputs": [
    {
     "name": "stdout",
     "output_type": "stream",
     "text": [
      "24.85484\n"
     ]
    }
   ],
   "source": [
    "def km_to_mi(k):\n",
    "    mi = k*0.621371\n",
    "    print(mi)\n",
    "\n",
    "km_to_mi(40)"
   ]
  },
  {
   "cell_type": "markdown",
   "id": "fa8149f3",
   "metadata": {},
   "source": [
    "2. Write a Python program to convert Celsius to Fahrenheit?"
   ]
  },
  {
   "cell_type": "code",
   "execution_count": 2,
   "id": "79978217",
   "metadata": {},
   "outputs": [
    {
     "name": "stdout",
     "output_type": "stream",
     "text": [
      "212.0\n"
     ]
    }
   ],
   "source": [
    "def cel_to_far(c):\n",
    "    far = (c * (9/5)) + 32\n",
    "    print(far)\n",
    "    \n",
    "cel_to_far(100)"
   ]
  },
  {
   "cell_type": "markdown",
   "id": "5601164a",
   "metadata": {},
   "source": [
    "3. Write a Python program to display calendar?"
   ]
  },
  {
   "cell_type": "code",
   "execution_count": 3,
   "id": "dafc8586",
   "metadata": {},
   "outputs": [
    {
     "name": "stdout",
     "output_type": "stream",
     "text": [
      "Enter year: 2023\n",
      "Enter month: 7\n",
      "     July 2023\n",
      "Mo Tu We Th Fr Sa Su\n",
      "                1  2\n",
      " 3  4  5  6  7  8  9\n",
      "10 11 12 13 14 15 16\n",
      "17 18 19 20 21 22 23\n",
      "24 25 26 27 28 29 30\n",
      "31\n",
      "\n"
     ]
    }
   ],
   "source": [
    "import calendar\n",
    "\n",
    "year = int(input(\"Enter year: \"))\n",
    "month = int(input(\"Enter month: \"))\n",
    "\n",
    "print(calendar.month(year, month))\n"
   ]
  },
  {
   "cell_type": "markdown",
   "id": "41e661a9",
   "metadata": {},
   "source": [
    "4. Write a Python program to solve quadratic equation?"
   ]
  },
  {
   "cell_type": "code",
   "execution_count": 4,
   "id": "0ca127c5",
   "metadata": {},
   "outputs": [
    {
     "name": "stdout",
     "output_type": "stream",
     "text": [
      "Solving a*x^2 + b*x + c = 0 \n",
      "Enter a: 1\n",
      "Enter b: 1\n",
      "Enter c: -2\n",
      "1.0 -2.0\n"
     ]
    }
   ],
   "source": [
    "# Solving the equation ax^2 + bx + c = 0\n",
    "import math\n",
    "print(\"Solving a*x^2 + b*x + c = 0 \")\n",
    "a = float(input(\"Enter a: \"))\n",
    "b = float(input(\"Enter b: \"))\n",
    "c = float(input(\"Enter c: \"))\n",
    "\n",
    "det = (b**2)-(4*a*c)\n",
    "\n",
    "if det > 0:\n",
    "    sol1 = (-b + math.sqrt(det))/2*a\n",
    "    sol2 = (-b - math.sqrt(det))/2*a\n",
    "    print(sol1, sol2)\n",
    "elif det == 0:\n",
    "    sol = -b/2*a\n",
    "    print(sol)\n",
    "else:\n",
    "    print(\"No real solution\")"
   ]
  },
  {
   "cell_type": "markdown",
   "id": "29ea082b",
   "metadata": {},
   "source": [
    "5. Write a Python program to swap two variables without temp variable?"
   ]
  },
  {
   "cell_type": "code",
   "execution_count": 5,
   "id": "98563b1d",
   "metadata": {},
   "outputs": [
    {
     "name": "stdout",
     "output_type": "stream",
     "text": [
      "Enter first integer:10\n",
      "Enter second integer:20\n",
      "10 20\n",
      "20 10\n"
     ]
    }
   ],
   "source": [
    "def swap(a,b):\n",
    "    a,b = b,a\n",
    "    print(a, b)\n",
    "\n",
    "a = int(input(\"Enter first integer:\"))\n",
    "b = int(input(\"Enter second integer:\"))\n",
    "print(a, b)\n",
    "swap(a, b)\n"
   ]
  },
  {
   "cell_type": "code",
   "execution_count": null,
   "id": "7628bc12",
   "metadata": {},
   "outputs": [],
   "source": []
  }
 ],
 "metadata": {
  "kernelspec": {
   "display_name": "Python 3",
   "language": "python",
   "name": "python3"
  },
  "language_info": {
   "codemirror_mode": {
    "name": "ipython",
    "version": 3
   },
   "file_extension": ".py",
   "mimetype": "text/x-python",
   "name": "python",
   "nbconvert_exporter": "python",
   "pygments_lexer": "ipython3",
   "version": "3.8.8"
  }
 },
 "nbformat": 4,
 "nbformat_minor": 5
}
