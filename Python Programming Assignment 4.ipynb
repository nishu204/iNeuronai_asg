{
 "cells": [
  {
   "cell_type": "markdown",
   "id": "1ff9b154",
   "metadata": {},
   "source": [
    "1. Write a Python Program to Find the Factorial of a Number?"
   ]
  },
  {
   "cell_type": "code",
   "execution_count": 1,
   "id": "540a1599",
   "metadata": {},
   "outputs": [
    {
     "name": "stdout",
     "output_type": "stream",
     "text": [
      "Enter the number:7\n",
      "The factorial of 7 is 5040\n"
     ]
    }
   ],
   "source": [
    "def fact(n):\n",
    "    if n == 1:\n",
    "        return 1\n",
    "    else:\n",
    "        ans = n*fact(n-1)\n",
    "        return ans\n",
    "    \n",
    "n = int(input(\"Enter the number:\"))\n",
    "\n",
    "ans = fact(n)\n",
    "print(\"The factorial of\", n, \"is\", ans)"
   ]
  },
  {
   "cell_type": "markdown",
   "id": "3cc9f7ce",
   "metadata": {},
   "source": [
    "2. Write a Python Program to Display the multiplication Table?"
   ]
  },
  {
   "cell_type": "code",
   "execution_count": 2,
   "id": "6beaf79a",
   "metadata": {},
   "outputs": [
    {
     "name": "stdout",
     "output_type": "stream",
     "text": [
      "Enter the number:12\n",
      "12 x 1 = 12\n",
      "12 x 2 = 24\n",
      "12 x 3 = 36\n",
      "12 x 4 = 48\n",
      "12 x 5 = 60\n",
      "12 x 6 = 72\n",
      "12 x 7 = 84\n",
      "12 x 8 = 96\n",
      "12 x 9 = 108\n",
      "12 x 10 = 120\n"
     ]
    }
   ],
   "source": [
    "def mul_table(n):\n",
    "    for i in range(1, 11):\n",
    "        mul = n*i\n",
    "        print(n,'x',i,'=',mul)\n",
    "        \n",
    "n = int(input(\"Enter the number:\"))\n",
    "mul_table(n)"
   ]
  },
  {
   "cell_type": "markdown",
   "id": "a0ba5f35",
   "metadata": {},
   "source": [
    "3. Write a Python Program to Print the Fibonacci sequence?"
   ]
  },
  {
   "cell_type": "code",
   "execution_count": 3,
   "id": "46581dfe",
   "metadata": {},
   "outputs": [
    {
     "name": "stdout",
     "output_type": "stream",
     "text": [
      "Enter the number:9\n",
      "34\n"
     ]
    }
   ],
   "source": [
    "def fib(n):\n",
    "    if n==1:\n",
    "        return 1\n",
    "    elif n==0:\n",
    "        return 0\n",
    "    else:\n",
    "        ans = fib(n-1) + fib(n-2)\n",
    "        return ans\n",
    "    \n",
    "n = int(input(\"Enter the number:\"))\n",
    "ans = fib(n)\n",
    "print(ans)"
   ]
  },
  {
   "cell_type": "markdown",
   "id": "794775d8",
   "metadata": {},
   "source": [
    "4. Write a Python Program to Check Armstrong Number?"
   ]
  },
  {
   "cell_type": "code",
   "execution_count": 4,
   "id": "70f7735b",
   "metadata": {},
   "outputs": [
    {
     "name": "stdout",
     "output_type": "stream",
     "text": [
      "Enter the number:407\n",
      "It is an Armstrong number\n"
     ]
    }
   ],
   "source": [
    "num = int(input(\"Enter the number:\"))\n",
    "nums = str(num)\n",
    "i = len(nums)\n",
    "\n",
    "sum = 0\n",
    "temp = num\n",
    "while temp > 0:\n",
    "    dig = temp%10\n",
    "    sum += dig**i\n",
    "    temp //= 10\n",
    "    \n",
    "if num == sum:\n",
    "    print(\"It is an Armstrong number\")\n",
    "else:\n",
    "    print(\"It is not an Armstrong number\")"
   ]
  },
  {
   "cell_type": "markdown",
   "id": "c6e0eb4d",
   "metadata": {},
   "source": [
    "5. Write a Python Program to Find Armstrong Number in an Interval?"
   ]
  },
  {
   "cell_type": "code",
   "execution_count": 5,
   "id": "7f58f115",
   "metadata": {},
   "outputs": [
    {
     "name": "stdout",
     "output_type": "stream",
     "text": [
      "Enter upper limit:1000\n",
      "Enter lower limit:100\n",
      "153\n",
      "370\n",
      "371\n",
      "407\n"
     ]
    }
   ],
   "source": [
    "upper = int(input(\"Enter upper limit:\"))\n",
    "lower = int(input(\"Enter lower limit:\"))\n",
    "    \n",
    "for i in range(lower, upper+1):\n",
    "    num = i\n",
    "    order = len(str(i))\n",
    "    sum = 0\n",
    "    temp = num\n",
    "    while temp > 0:\n",
    "        dig = temp%10\n",
    "        sum += dig**order\n",
    "        temp //= 10\n",
    "        \n",
    "    if sum == num:\n",
    "        print(num)"
   ]
  },
  {
   "cell_type": "markdown",
   "id": "139c374b",
   "metadata": {},
   "source": [
    "6. Write a Python Program to Find the Sum of Natural Numbers?"
   ]
  },
  {
   "cell_type": "code",
   "execution_count": 6,
   "id": "ceb5f609",
   "metadata": {},
   "outputs": [
    {
     "name": "stdout",
     "output_type": "stream",
     "text": [
      "Enter the number:13\n",
      "The sum is 91\n"
     ]
    }
   ],
   "source": [
    "num = int(input(\"Enter the number:\"))\n",
    "\n",
    "if num < 0:\n",
    "    print(\"Enter a positive number\")\n",
    "else:\n",
    "    sum = 0\n",
    "   \n",
    "    while(num > 0):\n",
    "        sum += num\n",
    "        num -= 1\n",
    "    print(\"The sum is\", sum)"
   ]
  }
 ],
 "metadata": {
  "kernelspec": {
   "display_name": "Python 3",
   "language": "python",
   "name": "python3"
  },
  "language_info": {
   "codemirror_mode": {
    "name": "ipython",
    "version": 3
   },
   "file_extension": ".py",
   "mimetype": "text/x-python",
   "name": "python",
   "nbconvert_exporter": "python",
   "pygments_lexer": "ipython3",
   "version": "3.8.8"
  }
 },
 "nbformat": 4,
 "nbformat_minor": 5
}
